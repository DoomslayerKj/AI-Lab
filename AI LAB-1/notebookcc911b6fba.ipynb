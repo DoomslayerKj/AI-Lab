{
 "cells": [
  {
   "cell_type": "code",
   "execution_count": 1,
   "metadata": {
    "_cell_guid": "b1076dfc-b9ad-4769-8c92-a6c4dae69d19",
    "_uuid": "8f2839f25d086af736a60e9eeb907d3b93b6e0e5",
    "execution": {
     "iopub.execute_input": "2020-11-09T05:16:11.061457Z",
     "iopub.status.busy": "2020-11-09T05:16:11.060581Z",
     "iopub.status.idle": "2020-11-09T05:16:11.063849Z",
     "shell.execute_reply": "2020-11-09T05:16:11.063037Z"
    },
    "papermill": {
     "duration": 0.017818,
     "end_time": "2020-11-09T05:16:11.063977",
     "exception": false,
     "start_time": "2020-11-09T05:16:11.046159",
     "status": "completed"
    },
    "tags": []
   },
   "outputs": [],
   "source": [
    "# This Python 3 environment comes with many helpful analytics libraries installed\n",
    "# It is defined by the kaggle/python Docker image: https://github.com/kaggle/docker-python\n",
    "# For example, here's several helpful packages to load\n",
    "\n",
    "import numpy as np # linear algebra\n",
    "import pandas as pd # data processing, CSV file I/O (e.g. pd.read_csv)\n",
    "\n",
    "# Input data files are available in the read-only \"../input/\" directory\n",
    "# For example, running this (by clicking run or pressing Shift+Enter) will list all files under the input directory\n",
    "\n",
    "import os\n",
    "for dirname, _, filenames in os.walk('/kaggle/input'):\n",
    "    for filename in filenames:\n",
    "        print(os.path.join(dirname, filename))\n",
    "\n",
    "# You can write up to 20GB to the current directory (/kaggle/working/) that gets preserved as output when you create a version using \"Save & Run All\" \n",
    "# You can also write temporary files to /kaggle/temp/, but they won't be saved outside of the current session"
   ]
  },
  {
   "cell_type": "code",
   "execution_count": 2,
   "metadata": {
    "_cell_guid": "79c7e3d0-c299-4dcb-8224-4455121ee9b0",
    "_uuid": "d629ff2d2480ee46fbb7e2d37f6b5fab8052498a",
    "execution": {
     "iopub.execute_input": "2020-11-09T05:16:11.086627Z",
     "iopub.status.busy": "2020-11-09T05:16:11.085546Z",
     "iopub.status.idle": "2020-11-09T05:16:11.088880Z",
     "shell.execute_reply": "2020-11-09T05:16:11.088171Z"
    },
    "papermill": {
     "duration": 0.016635,
     "end_time": "2020-11-09T05:16:11.089004",
     "exception": false,
     "start_time": "2020-11-09T05:16:11.072369",
     "status": "completed"
    },
    "tags": []
   },
   "outputs": [],
   "source": [
    "def iddfs(src, target, depth):\n",
    "    count=0\n",
    "    for limit in range(1, depth + 1): \n",
    "        visited_states = [] \n",
    "        print(\"iteration=\",count)\n",
    "        count+=1\n",
    "        if dfs(src, target, limit, visited_states):\n",
    "            return True \n",
    "    return False"
   ]
  },
  {
   "cell_type": "code",
   "execution_count": 3,
   "metadata": {
    "execution": {
     "iopub.execute_input": "2020-11-09T05:16:11.109877Z",
     "iopub.status.busy": "2020-11-09T05:16:11.109141Z",
     "iopub.status.idle": "2020-11-09T05:16:11.112671Z",
     "shell.execute_reply": "2020-11-09T05:16:11.111967Z"
    },
    "papermill": {
     "duration": 0.01742,
     "end_time": "2020-11-09T05:16:11.112813",
     "exception": false,
     "start_time": "2020-11-09T05:16:11.095393",
     "status": "completed"
    },
    "tags": []
   },
   "outputs": [],
   "source": [
    "def dfs(src,target,limit,visited_states):\n",
    "    if src == target:\n",
    "        print(target)\n",
    "        return True\n",
    "    \n",
    "    if limit<=0:\n",
    "        return False\n",
    "    \n",
    "    visited_states.append(src)\n",
    "    \n",
    "    adj = possible_moves(src,visited_states)\n",
    "    \n",
    "    for move in adj:\n",
    "        if dfs(move,target,limit -1,visited_states):\n",
    "            return True\n",
    "    return False\n",
    "\n",
    "\n",
    "    \n",
    "    "
   ]
  },
  {
   "cell_type": "code",
   "execution_count": 4,
   "metadata": {
    "execution": {
     "iopub.execute_input": "2020-11-09T05:16:11.136071Z",
     "iopub.status.busy": "2020-11-09T05:16:11.135043Z",
     "iopub.status.idle": "2020-11-09T05:16:11.137766Z",
     "shell.execute_reply": "2020-11-09T05:16:11.138281Z"
    },
    "papermill": {
     "duration": 0.019172,
     "end_time": "2020-11-09T05:16:11.138452",
     "exception": false,
     "start_time": "2020-11-09T05:16:11.119280",
     "status": "completed"
    },
    "tags": []
   },
   "outputs": [],
   "source": [
    "def possible_moves(state,visited_states):\n",
    "    b=state.index(-1)\n",
    "    d=[]\n",
    "    pos_moves=[]\n",
    "    \n",
    "    if b<=5:\n",
    "        d.append('d')\n",
    "        \n",
    "    if b>=3:\n",
    "        d.append('u')\n",
    "    if b %3 > 0:\n",
    "        d.append('l')\n",
    "    if b%3<2:\n",
    "        d.append('r')\n",
    "    for i in d:\n",
    "        temp=gen(state,i,b)\n",
    "        \n",
    "        if temp not in visited_states:\n",
    "            pos_moves.append(temp)\n",
    "    return pos_moves"
   ]
  },
  {
   "cell_type": "code",
   "execution_count": 5,
   "metadata": {
    "execution": {
     "iopub.execute_input": "2020-11-09T05:16:11.161529Z",
     "iopub.status.busy": "2020-11-09T05:16:11.159969Z",
     "iopub.status.idle": "2020-11-09T05:16:11.164716Z",
     "shell.execute_reply": "2020-11-09T05:16:11.164123Z"
    },
    "papermill": {
     "duration": 0.019776,
     "end_time": "2020-11-09T05:16:11.164842",
     "exception": false,
     "start_time": "2020-11-09T05:16:11.145066",
     "status": "completed"
    },
    "tags": []
   },
   "outputs": [],
   "source": [
    "def gen(state,m,b):\n",
    "    temp = state.copy()\n",
    "    \n",
    "    if m == 'l':\n",
    "        temp[b],temp[b-1]=temp[b-1],temp[b]\n",
    "    if m =='r':\n",
    "        temp[b], temp[b + 1] = temp[b + 1], temp[b]\n",
    "    if m == 'u':\n",
    "         temp[b], temp[b - 3] = temp[b - 3], temp[b]\n",
    "    if m == 'd':\n",
    "        temp[b], temp[b + 3] = temp[b + 3], temp[b]\n",
    "    return temp"
   ]
  },
  {
   "cell_type": "code",
   "execution_count": 6,
   "metadata": {
    "execution": {
     "iopub.execute_input": "2020-11-09T05:16:11.186197Z",
     "iopub.status.busy": "2020-11-09T05:16:11.185474Z",
     "iopub.status.idle": "2020-11-09T05:16:11.189428Z",
     "shell.execute_reply": "2020-11-09T05:16:11.188718Z"
    },
    "papermill": {
     "duration": 0.017881,
     "end_time": "2020-11-09T05:16:11.189578",
     "exception": false,
     "start_time": "2020-11-09T05:16:11.171697",
     "status": "completed"
    },
    "tags": []
   },
   "outputs": [
    {
     "name": "stdout",
     "output_type": "stream",
     "text": [
      "iteration= 0\n",
      "iteration= 1\n",
      "iteration= 2\n",
      "iteration= 3\n",
      "False\n"
     ]
    }
   ],
   "source": [
    "src = [1, 2, 3,\n",
    "      4, -1, 5,\n",
    "       6, 7, 8]\n",
    "       \n",
    "target = [-1, 1, 2,\n",
    "          3, 4, 5,\n",
    "         6, 7, 8]  \n",
    "\n",
    "depth = 4\n",
    "print(iddfs(src, target, depth))  \n",
    "\n"
   ]
  }
 ],
 "metadata": {
  "kernelspec": {
   "display_name": "Python 3",
   "language": "python",
   "name": "python3"
  },
  "language_info": {
   "codemirror_mode": {
    "name": "ipython",
    "version": 3
   },
   "file_extension": ".py",
   "mimetype": "text/x-python",
   "name": "python",
   "nbconvert_exporter": "python",
   "pygments_lexer": "ipython3",
   "version": "3.7.6"
  },
  "papermill": {
   "duration": 4.749523,
   "end_time": "2020-11-09T05:16:11.304062",
   "environment_variables": {},
   "exception": null,
   "input_path": "__notebook__.ipynb",
   "output_path": "__notebook__.ipynb",
   "parameters": {},
   "start_time": "2020-11-09T05:16:06.554539",
   "version": "2.1.0"
  }
 },
 "nbformat": 4,
 "nbformat_minor": 4
}
